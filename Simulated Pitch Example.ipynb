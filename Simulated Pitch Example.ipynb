{
 "cells": [
  {
   "cell_type": "code",
   "execution_count": 1,
   "metadata": {},
   "outputs": [],
   "source": [
    "from math import *\n",
    "import numpy as np\n",
    "import sympy as sp\n",
    "import matplotlib.pyplot as plt\n",
    "sp.init_printing(use_unicode=True, use_latex='mathjax')\n",
    "%matplotlib inline"
   ]
  },
  {
   "cell_type": "code",
   "execution_count": 2,
   "metadata": {},
   "outputs": [],
   "source": [
    "VeloMPH = 90.8 #Translational velocity of the baseball in MPH from Rapsodo\n",
    "#Velo = [] #Velocity in m/s\n",
    "SpinM = 1733 #True spin of baseball in RPM\n",
    "#SpinS = [] #True spin of baseball in RPS\n",
    "VertIN = 18.2 #Vertical movement of each pitch from Rapsodo in inches\n",
    "#Vert = [] #Vertical movement in meters\n",
    "HorIN = 4.7 #Horizontal movement of each pitch in inches\n",
    "#Hor = [] #Horizontal movement in meters\n",
    "#Move = [] #Total movement in inches\n",
    "S = [] #Spin factor for each pitch\n",
    "SV = [] #Spin factor times velocity for each pitch\n",
    "R = 0.038 #Radius of baseball in meters\n",
    "A = R**2*np.pi #Cross sectional area of baseball in meters\n",
    "P = 1.23 #kg/m^3 density of air at STP\n",
    "XFT = 60.5 #Distance the ball travels in feet\n",
    "Gam = 0.25 #N*s^2/m^4 for air at STP\n",
    "D = 2*R #Diameter of baseball in meters\n",
    "m = 0.145 #Mass of ball in kg\n",
    "delT = 0.001 #Change in time\n",
    "g = 9.81 #Gravitational constant"
   ]
  },
  {
   "cell_type": "code",
   "execution_count": 3,
   "metadata": {},
   "outputs": [],
   "source": [
    "Move = ((VertIN**2 + HorIN**2)**(1/2))"
   ]
  },
  {
   "cell_type": "code",
   "execution_count": 4,
   "metadata": {},
   "outputs": [],
   "source": [
    "    Velo = VeloMPH * 0.44704 #Miles per hour to meters per second\n",
    "    SpinS = (SpinM / 60) #Rotations per minute to rotations per second\n",
    "    Move = Move * 0.0254 #Inches to meters\n",
    "    Vert = (VertIN * 0.0254)#Inches to meters in absolute value\n",
    "    #Vert = abs(Vert)\n",
    "    Hor = (HorIN * 0.0254) #Inches to meters in absolute value\n",
    "   # Hor = abs(Hor)\n",
    "    \n",
    "X = XFT * 0.3048 #Feet to meters"
   ]
  },
  {
   "cell_type": "code",
   "execution_count": 5,
   "metadata": {},
   "outputs": [],
   "source": [
    "    CL = 0.1370722729389064\n",
    "    i = 0\n",
    "    #Movement variables\n",
    "    xpos= [] #Distance the ball has traveled from the pitching machine to the plate\n",
    "    ypos= []\n",
    "    zpos= [] #Pitching machine starts about 5 feet above the ground. This does not matter, only need Mag variables\n",
    "    xvel= []\n",
    "    yvel= []\n",
    "    zvel= []\n",
    "    xpos.append(0)\n",
    "    ypos.append(0)\n",
    "    zpos.append(5)\n",
    "    xvel.append(Velo)\n",
    "    yvel.append(0)\n",
    "    zvel.append(0)\n",
    "    yposmag = []\n",
    "    zposmag = []\n",
    "    yvelmag = []\n",
    "    zvelmag = []\n",
    "    yposmag.append(0)\n",
    "    zposmag.append(0)\n",
    "    yvelmag.append(0)\n",
    "    zvelmag.append(0)\n",
    "    while (xpos[i] <= X):\n",
    "        v = (xvel[i]**2 + yvel[i]**2 + zvel[i]**2)**0.5\n",
    "        #Actual positions\n",
    "        xpos.append (xpos[i] + xvel[i]*delT)\n",
    "        ypos.append (ypos[i] + yvel[i]*delT)\n",
    "        zpos.append (zpos[i] + zvel[i]*delT)\n",
    "        xvel.append (xvel[i] - (Gam*D*D/m)*v*xvel[i]*delT)\n",
    "        yvel.append (yvel[i] - (Gam*D*D/m)*v*yvel[i]*delT + 0.5*P*A*v*v*CL*np.sin(np.arctan(Hor/Vert))*delT/m)\n",
    "        zvel.append (zvel[i] - g*delT - (Gam*D*D/m)*v*zvel[i]*delT + 0.5*P*A*v*v*CL*np.cos(np.arctan(Hor/Vert))*delT/m)\n",
    "        #Movement just from the Magnus Force\n",
    "        yposmag.append (yposmag[i] + yvelmag[i]*delT)\n",
    "        zposmag.append (zposmag[i] + zvelmag[i]*delT)\n",
    "        yvelmag.append (yvelmag[i] + 0.5*P*A*v*v*CL*np.sin(np.arctan(Hor/Vert))*delT/m)\n",
    "        zvelmag.append (zvelmag[i] + 0.5*P*A*v*v*CL*np.cos(np.arctan(Hor/Vert))*delT/m)\n",
    "        i = i + 1\n"
   ]
  },
  {
   "cell_type": "code",
   "execution_count": 6,
   "metadata": {},
   "outputs": [],
   "source": [
    "    CLH = 0.19531349804687498\n",
    "    i = 0\n",
    "    #Movement variables\n",
    "    xposH= [] #Distance the ball has traveled from the pitching machine to the plate\n",
    "    yposH= []\n",
    "    zposH= [] #Pitching machine starts about 5 feet above the ground. This does not matter, only need Mag variables\n",
    "    xvelH= []\n",
    "    yvelH= []\n",
    "    zvelH= []\n",
    "    xposH.append(0)\n",
    "    yposH.append(0)\n",
    "    zposH.append(5)\n",
    "    xvelH.append(Velo)\n",
    "    yvelH.append(0)\n",
    "    zvelH.append(0)\n",
    "    yposmagH = []\n",
    "    zposmagH = []\n",
    "    yvelmagH = []\n",
    "    zvelmagH = []\n",
    "    yposmagH.append(0)\n",
    "    zposmagH.append(0)\n",
    "    yvelmagH.append(0)\n",
    "    zvelmagH.append(0)\n",
    "    while (xposH[i] <= X):\n",
    "        vH = (xvelH[i]**2 + yvelH[i]**2 + zvelH[i]**2)**0.5\n",
    "        #Actual positions\n",
    "        xposH.append (xposH[i] + xvelH[i]*delT)\n",
    "        yposH.append (yposH[i] + yvelH[i]*delT)\n",
    "        zposH.append (zposH[i] + zvelH[i]*delT)\n",
    "        xvelH.append (xvelH[i] - (Gam*D*D/m)*vH*xvelH[i]*delT)\n",
    "        yvelH.append (yvelH[i] - (Gam*D*D/m)*vH*yvelH[i]*delT + 0.5*P*A*vH*vH*CLH*np.sin(np.arctan(Hor/Vert))*delT/m)\n",
    "        zvelH.append (zvelH[i] - g*delT - (Gam*D*D/m)*vH*zvelH[i]*delT + 0.5*P*A*vH*vH*CLH*np.cos(np.arctan(Hor/Vert))*delT/m)\n",
    "        #Movement just from the Magnus Force\n",
    "        yposmagH.append (yposmagH[i] + yvelmagH[i]*delT)\n",
    "        zposmagH.append (zposmagH[i] + zvelmagH[i]*delT)\n",
    "        yvelmagH.append (yvelmagH[i] + 0.5*P*A*vH*vH*CLH*np.sin(np.arctan(Hor/Vert))*delT/m)\n",
    "        zvelmagH.append (zvelmagH[i] + 0.5*P*A*vH*vH*CLH*np.cos(np.arctan(Hor/Vert))*delT/m)\n",
    "        i = i + 1\n"
   ]
  },
  {
   "cell_type": "code",
   "execution_count": 7,
   "metadata": {},
   "outputs": [],
   "source": [
    "    CLL =0.09765724902343749\n",
    "    i = 0\n",
    "    #Movement variables\n",
    "    xposL= [] #Distance the ball has traveled from the pitching machine to the plate\n",
    "    yposL= []\n",
    "    zposL= [] #Pitching machine starts about 5 feet above the ground. This does not matter, only need Mag variables\n",
    "    xvelL= []\n",
    "    yvelL= []\n",
    "    zvelL= []\n",
    "    xposL.append(0)\n",
    "    yposL.append(0)\n",
    "    zposL.append(5)\n",
    "    xvelL.append(Velo)\n",
    "    yvelL.append(0)\n",
    "    zvelL.append(0)\n",
    "    yposmagL = []\n",
    "    zposmagL = []\n",
    "    yvelmagL = []\n",
    "    zvelmagL = []\n",
    "    yposmagL.append(0)\n",
    "    zposmagL.append(0)\n",
    "    yvelmagL.append(0)\n",
    "    zvelmagL.append(0)\n",
    "    while (xposL[i] <= X):\n",
    "        vL = (xvelL[i]**2 + yvelL[i]**2 + zvelL[i]**2)**0.5\n",
    "        #Actual positions\n",
    "        xposL.append (xposL[i] + xvelL[i]*delT)\n",
    "        yposL.append (yposL[i] + yvelL[i]*delT)\n",
    "        zposL.append (zposL[i] + zvelL[i]*delT)\n",
    "        xvelL.append (xvelL[i] - (Gam*D*D/m)*vL*xvelL[i]*delT)\n",
    "        yvelL.append (yvelL[i] - (Gam*D*D/m)*vL*yvelL[i]*delT + 0.5*P*A*vL*vL*CLL*np.sin(np.arctan(Hor/Vert))*delT/m)\n",
    "        zvelL.append (zvelL[i] - g*delT - (Gam*D*D/m)*vL*zvelL[i]*delT + 0.5*P*A*vL*vL*CLL*np.cos(np.arctan(Hor/Vert))*delT/m)\n",
    "        #Movement just from the Magnus Force\n",
    "        yposmagL.append (yposmagL[i] + yvelmagL[i]*delT)\n",
    "        zposmagL.append (zposmagL[i] + zvelmagL[i]*delT)\n",
    "        yvelmagL.append (yvelmagL[i] + 0.5*P*A*vL*vL*CLL*np.sin(np.arctan(Hor/Vert))*delT/m)\n",
    "        zvelmagL.append (zvelmagL[i] + 0.5*P*A*vL*vL*CLL*np.cos(np.arctan(Hor/Vert))*delT/m)\n",
    "        i = i + 1\n"
   ]
  },
  {
   "cell_type": "code",
   "execution_count": 8,
   "metadata": {},
   "outputs": [
    {
     "data": {
      "text/plain": [
       "<matplotlib.legend.Legend at 0x1ced5379898>"
      ]
     },
     "execution_count": 8,
     "metadata": {},
     "output_type": "execute_result"
    },
    {
     "data": {
      "image/png": "[encoded data removed]",
      "text/plain": [
       "<Figure size 432x288 with 1 Axes>"
      ]
     },
     "metadata": {},
     "output_type": "display_data"
    }
   ],
   "source": [
    "plt.plot (xpos, zposmag, label = \"Predicted (Guess 43)\")\n",
    "plt.plot (xposH, zposmagH, label = \"High Prediction (Guess 9)\")\n",
    "plt.plot (xposL, zposmagL, label = \"Low Prediction (Guess 10)\")\n",
    "plt.xlabel (\"Position (m)\")\n",
    "plt.ylabel (\"Vertical Movement (m)\")\n",
    "plt.title(\"Simulated Fastball\")\n",
    "plt.scatter (xpos[i], Vert, c='r', label = \"Actual\")\n",
    "plt.legend()"
   ]
  },
  {
   "cell_type": "code",
   "execution_count": null,
   "metadata": {},
   "outputs": [],
   "source": []
  },
  {
   "cell_type": "code",
   "execution_count": null,
   "metadata": {},
   "outputs": [],
   "source": []
  },
  {
   "cell_type": "code",
   "execution_count": null,
   "metadata": {},
   "outputs": [],
   "source": []
  }
 ],
 "metadata": {
  "kernelspec": {
   "display_name": "Python 3",
   "language": "python",
   "name": "python3"
  },
  "language_info": {
   "codemirror_mode": {
    "name": "ipython",
    "version": 3
   },
   "file_extension": ".py",
   "mimetype": "text/x-python",
   "name": "python",
   "nbconvert_exporter": "python",
   "pygments_lexer": "ipython3",
   "version": "3.6.5"
  }
 },
 "nbformat": 4,
 "nbformat_minor": 2
}
