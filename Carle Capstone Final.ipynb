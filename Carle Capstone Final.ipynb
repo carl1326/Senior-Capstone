{
 "cells": [
  {
   "cell_type": "code",
   "execution_count": 1,
   "metadata": {},
   "outputs": [],
   "source": [
    "from math import *\n",
    "import numpy as np\n",
    "import sympy as sp\n",
    "import matplotlib.pyplot as plt\n",
    "sp.init_printing(use_unicode=True, use_latex='mathjax')\n",
    "%matplotlib inline"
   ]
  },
  {
   "cell_type": "code",
   "execution_count": 2,
   "metadata": {},
   "outputs": [],
   "source": [
    "VeloMPH = [] #Translational velocity of the baseball in MPH from Rapsodo\n",
    "Velo = [] #Velocity in m/s\n",
    "SpinM = [] #True spin of baseball in RPM\n",
    "SpinS = [] #True spin of baseball in RPS\n",
    "VertIN = [] #Vertical movement of each pitch from Rapsodo in inches\n",
    "Vert = [] #Vertical movement in meters\n",
    "HorIN = [] #Horizontal movement of each pitch in inches\n",
    "Hor = [] #Horizontal movement in meters\n",
    "Move = [] #Total movement in inches\n",
    "S = [] #Spin factor for each pitch\n",
    "SV = [] #Spin factor times velocity for each pitch\n",
    "R = 0.038 #Radius of baseball in meters\n",
    "A = R**2*np.pi #Cross sectional area of baseball in meters\n",
    "P = 1.23 #kg/m^3 density of air at STP\n",
    "XFT = 60.5 #Distance the ball travels in feet\n",
    "Gam = 0.25 #N*s^2/m^4 for air at STP\n",
    "D = 2*R #Diameter of baseball in meters\n",
    "m = 0.145 #Mass of ball in kg\n",
    "delT = 0.001 #Change in time\n",
    "g = 9.81 #Gravitational constant"
   ]
  },
  {
   "cell_type": "markdown",
   "metadata": {},
   "source": [
    "Import data"
   ]
  },
  {
   "cell_type": "code",
   "execution_count": 3,
   "metadata": {},
   "outputs": [],
   "source": [
    "import csv\n",
    "RapsodoData = []\n",
    "m0 = r\"C:\\Users\\Ryan\\Desktop\\Capstone\\Final Project\\Rapsodo Senior Project.csv\" #Location of the .csv Excel file\n",
    "with open(m0, newline='') as infile:\n",
    "    InputReader = csv.reader(infile)\n",
    "    InputHeader = next(InputReader)\n",
    "    for line in InputReader:\n",
    "        numline = [float(i) for i in line]\n",
    "        RapsodoData.append(numline)\n",
    "RapsodoData = np.array(RapsodoData)\n",
    "VeloMPH = RapsodoData[:,0] #First column in Excel is velocity\n",
    "SpinM = RapsodoData[:,1] #Second column is spin rate\n",
    "HorIN = RapsodoData[:,2] #Third column is horizontal movement\n",
    "VertIN = RapsodoData[:,3] #Fourth column is vertical movement"
   ]
  },
  {
   "cell_type": "markdown",
   "metadata": {},
   "source": [
    "Calculate total movement in inches"
   ]
  },
  {
   "cell_type": "code",
   "execution_count": 4,
   "metadata": {},
   "outputs": [],
   "source": [
    "for i in range(len(VeloMPH)):\n",
    "    Move.append((VertIN[i]**2 + HorIN[i]**2)**(1/2))"
   ]
  },
  {
   "cell_type": "markdown",
   "metadata": {},
   "source": [
    "Conversions"
   ]
  },
  {
   "cell_type": "code",
   "execution_count": 5,
   "metadata": {},
   "outputs": [],
   "source": [
    "for i in range(len(VeloMPH)):\n",
    "    Velo.append(VeloMPH[i] * 0.44704) #Miles per hour to meters per second\n",
    "    SpinS.append(SpinM[i] / 60) #Rotations per minute to rotations per second\n",
    "    Move[i] = Move[i] * 0.0254 #Inches to meters\n",
    "    Vert.append(VertIN[i] * 0.0254) #Inches to meters\n",
    "    Hor.append(HorIN[i] * 0.0254) #Inches to meters\n",
    "    \n",
    "X = XFT * 0.3048 #Feet to meters"
   ]
  },
  {
   "cell_type": "markdown",
   "metadata": {},
   "source": [
    "Use guess and check method for CL to match predicted model to the Rapsodo data"
   ]
  },
  {
   "cell_type": "code",
   "execution_count": 6,
   "metadata": {},
   "outputs": [],
   "source": [
    "CL = [] #Lift Coefficients for each pitch\n",
    "loops = 0\n",
    "cases = 0\n",
    "for i in range(len(VeloMPH)):\n",
    "    cases = cases + 1\n",
    "    count = 0\n",
    "    CL.append(0.000001)\n",
    "    #Movement variables\n",
    "    xpos=0 #Distance the ball has traveled from the pitching machine to the plate\n",
    "    ypos=0\n",
    "    yposmag=0 #Horizontal movement only due to Magnus force\n",
    "    zpos=5 #Pitching machine starts about 5 feet above the ground. This does not matter, only need Mag variables\n",
    "    zposmag=0 #Vertical movement only due to Magnus force\n",
    "    xvel=Velo[i]\n",
    "    yvel=0\n",
    "    yvelmag = 0 #Horizontal veloctiy only due to Magnus force\n",
    "    zvel=0\n",
    "    zvelmag = 0 #Vertical velocity only due to Magnus force\n",
    "    while (xpos <= X):\n",
    "        loops = loops + 1\n",
    "        v = (xvel**2 + yvel**2 + zvel**2)**0.5\n",
    "        #Actual positions\n",
    "        xpos = (xpos + xvel*delT)\n",
    "        ypos = (ypos + yvel*delT)\n",
    "        zpos = (zpos + zvel*delT)\n",
    "        xvel = (xvel - (Gam*D*D/m)*v*xvel*delT)\n",
    "        yvel = (yvel - (Gam*D*D/m)*v*yvel*delT - 0.5*P*A*v*v*CL[i]*np.sin(np.arctan(Hor[i]/Vert[i])*delT/m))\n",
    "        zvel = (zvel - g*delT - (Gam*D*D/m)*v*zvel*delT + 0.5*P*A*v*v**CL[i]*np.cos(np.arctan(Hor[i]/Vert[i])*delT/m))\n",
    "        #Movement just from the Magnus Force\n",
    "        yposmag = (yposmag + yvelmag*delT)\n",
    "        zposmag = (zposmag + zvelmag*delT)\n",
    "        yvelmag = (yvelmag - 0.5*P*A*v*v*CL[i]*np.sin(np.arctan(Hor[i]/Vert[i])*delT/m))\n",
    "        zvelmag = (zvelmag + 0.5*P*A*v*v*CL[i]*np.cos(np.arctan(Hor[i]/Vert[i])*delT/m))\n",
    "    \n",
    "        count = count + 1 \n",
    "                       \n",
    "        #Reset all arrays if the predicted Magnus only movement does not match Rapsodo data and increase lift coefficient by 0.0000001\n",
    "        if ((xpos > X and yposmag < Hor[i]) and (xpos > X and zposmag < Vert[i])):\n",
    "            #Clear variables and start over \n",
    "            xpos=0 #Distance ball has travleled from pitching machine to the plate\n",
    "            ypos=0\n",
    "            yposmag=0 #Horizontal movement only due to Magnus force\n",
    "            zpos= 5 #Pitching machine starts about 5 feet above the ground. This does not matter, only need Mag variables\n",
    "            zposmag=0 #Vertical movement only due to Magnus force\n",
    "            xvel=Velo[i]\n",
    "            yvel=0\n",
    "            yvelmag = 0 #Horizontal veloctiy only due to Magnus force\n",
    "            zvel=0\n",
    "            zvelmag = 0 #Vertical velocity only due to Magnus force\n",
    "            count = 0\n",
    "            CL[i] = CL[i] + 0.000001"
   ]
  },
  {
   "cell_type": "markdown",
   "metadata": {},
   "source": [
    "Test to see how many times through the while loop total and how many pitches were run"
   ]
  },
  {
   "cell_type": "code",
   "execution_count": 7,
   "metadata": {},
   "outputs": [
    {
     "data": {
      "text/latex": [
       "$$123767443$$"
      ],
      "text/plain": [
       "123767443"
      ]
     },
     "execution_count": 7,
     "metadata": {},
     "output_type": "execute_result"
    }
   ],
   "source": [
    "loops"
   ]
  },
  {
   "cell_type": "code",
   "execution_count": 8,
   "metadata": {},
   "outputs": [
    {
     "data": {
      "text/latex": [
       "$$300$$"
      ],
      "text/plain": [
       "300"
      ]
     },
     "execution_count": 8,
     "metadata": {},
     "output_type": "execute_result"
    }
   ],
   "source": [
    "cases"
   ]
  },
  {
   "cell_type": "markdown",
   "metadata": {},
   "source": [
    "Calculate Spin factor and spin factor times velocity and print the size"
   ]
  },
  {
   "cell_type": "code",
   "execution_count": 10,
   "metadata": {},
   "outputs": [
    {
     "data": {
      "text/latex": [
       "$$300$$"
      ],
      "text/plain": [
       "300"
      ]
     },
     "execution_count": 10,
     "metadata": {},
     "output_type": "execute_result"
    }
   ],
   "source": [
    "for i in range(len(Velo)):\n",
    "    S.append(R*SpinS[i]/Velo[i]) #Rotations\n",
    "    SV.append(S[i]*Velo[i]) #Rotations times meters per second\n",
    "    \n",
    "len(S)"
   ]
  },
  {
   "cell_type": "markdown",
   "metadata": {},
   "source": [
    "Since the Lift Coefficient is so small (10^-5) Python can't graph them so we have to scale them so that they are graphable"
   ]
  },
  {
   "cell_type": "code",
   "execution_count": 11,
   "metadata": {},
   "outputs": [
    {
     "data": {
      "text/latex": [
       "$$300$$"
      ],
      "text/plain": [
       "300"
      ]
     },
     "execution_count": 11,
     "metadata": {},
     "output_type": "execute_result"
    }
   ],
   "source": [
    "CLscaled = []\n",
    "for i in range(len(Velo)):\n",
    "    CLscaled.append(10000*CL[i])\n",
    "    \n",
    "len(CLscaled)"
   ]
  },
  {
   "cell_type": "markdown",
   "metadata": {},
   "source": [
    "Graphs"
   ]
  },
  {
   "cell_type": "code",
   "execution_count": 17,
   "metadata": {},
   "outputs": [
    {
     "data": {
      "text/plain": [
       "Text(0.5,1,'Lift Coefficient vs Spin Factor')"
      ]
     },
     "execution_count": 17,
     "metadata": {},
     "output_type": "execute_result"
    },
    {
     "data": {
      "image/png": "[encoded data removed]",
      "text/plain": [
       "<Figure size 432x288 with 1 Axes>"
      ]
     },
     "metadata": {},
     "output_type": "display_data"
    }
   ],
   "source": [
    "plt.scatter (S, CLscaled)\n",
    "plt.xlabel (\"Spin Factor (Rotations)\")\n",
    "plt.ylabel (\"Lift Coefficient x 10^5 (Meters squared per rotation)\")\n",
    "plt.title('Lift Coefficient vs Spin Factor')"
   ]
  },
  {
   "cell_type": "markdown",
   "metadata": {},
   "source": [
    "This does not seem to be a linear relationship. THere potentiall is one from spin factors 0 to about 0.02 but then it is not linear for the rest of the graph."
   ]
  },
  {
   "cell_type": "code",
   "execution_count": 18,
   "metadata": {},
   "outputs": [
    {
     "data": {
      "text/plain": [
       "Text(0.5,1,'Lift Coefficient vs Spin Factor * Velocity')"
      ]
     },
     "execution_count": 18,
     "metadata": {},
     "output_type": "execute_result"
    },
    {
     "data": {
      "image/png": "[encoded data removed]",
      "text/plain": [
       "<Figure size 432x288 with 1 Axes>"
      ]
     },
     "metadata": {},
     "output_type": "display_data"
    }
   ],
   "source": [
    "plt.scatter (SV, CLscaled)\n",
    "plt.xlabel (\"Spin Factor * Velocity\")\n",
    "plt.ylabel (\"Lift Coefficient x 10^5 (Rotation times meter per second)\")\n",
    "plt.title ('Lift Coefficient vs Spin Factor * Velocity')"
   ]
  },
  {
   "cell_type": "markdown",
   "metadata": {},
   "source": [
    "Out of the two graphs above, this seems to be the most linear. This graph still is not perfectly linear but it is getting a lot closer. There is a y-intercept around 1 or 2 and I think that could be due to the Reynolds number. I rememeber reading that Nathan said that the Reynolds number is also a part of the lift coefficient."
   ]
  },
  {
   "cell_type": "code",
   "execution_count": 19,
   "metadata": {},
   "outputs": [
    {
     "data": {
      "text/plain": [
       "Text(0.5,1,'Lift Coefficient vs Velocity')"
      ]
     },
     "execution_count": 19,
     "metadata": {},
     "output_type": "execute_result"
    },
    {
     "data": {
      "image/png": "[encoded data removed]",
      "text/plain": [
       "<Figure size 432x288 with 1 Axes>"
      ]
     },
     "metadata": {},
     "output_type": "display_data"
    }
   ],
   "source": [
    "plt.scatter (Velo, CLscaled)\n",
    "plt.xlabel (\"Velocity (m/s)\")\n",
    "plt.ylabel (\"Lift Coefficient x 10^5 (Meters squared per rotation)\")\n",
    "plt.title('Lift Coefficient vs Velocity')"
   ]
  },
  {
   "cell_type": "markdown",
   "metadata": {},
   "source": [
    "This graph is a little interesting because there seems to be a negative relationship between the lift coefficient and the velocity."
   ]
  },
  {
   "cell_type": "code",
   "execution_count": 20,
   "metadata": {},
   "outputs": [
    {
     "data": {
      "text/plain": [
       "Text(0.5,1,'Lift Coefficient vs Spin Rate')"
      ]
     },
     "execution_count": 20,
     "metadata": {},
     "output_type": "execute_result"
    },
    {
     "data": {
      "image/png": "[encoded data removed]",
      "text/plain": [
       "<Figure size 432x288 with 1 Axes>"
      ]
     },
     "metadata": {},
     "output_type": "display_data"
    }
   ],
   "source": [
    "plt.scatter (SpinS, CLscaled)\n",
    "plt.xlabel (\"Spin Rate (Rotations per second)\")\n",
    "plt.ylabel (\"Lift Coefficient x 10^5 (Meters squared per rotation)\")\n",
    "plt.title('Lift Coefficient vs Spin Rate')"
   ]
  },
  {
   "cell_type": "markdown",
   "metadata": {},
   "source": [
    "This graph is very similar to the Lift Coefficient vs Spin Factor Times Velocity graph because the spin factor times velocity is just the radius of the ball times the spin rate."
   ]
  },
  {
   "cell_type": "code",
   "execution_count": null,
   "metadata": {},
   "outputs": [],
   "source": []
  },
  {
   "cell_type": "code",
   "execution_count": null,
   "metadata": {},
   "outputs": [],
   "source": []
  },
  {
   "cell_type": "code",
   "execution_count": null,
   "metadata": {},
   "outputs": [],
   "source": []
  }
 ],
 "metadata": {
  "kernelspec": {
   "display_name": "Python 3",
   "language": "python",
   "name": "python3"
  },
  "language_info": {
   "codemirror_mode": {
    "name": "ipython",
    "version": 3
   },
   "file_extension": ".py",
   "mimetype": "text/x-python",
   "name": "python",
   "nbconvert_exporter": "python",
   "pygments_lexer": "ipython3",
   "version": "3.6.5"
  }
 },
 "nbformat": 4,
 "nbformat_minor": 2
}
