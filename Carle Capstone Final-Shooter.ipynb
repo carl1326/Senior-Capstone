{
 "cells": [
  {
   "cell_type": "code",
   "execution_count": 1,
   "metadata": {},
   "outputs": [],
   "source": [
    "from math import *\n",
    "import numpy as np\n",
    "import sympy as sp\n",
    "import matplotlib.pyplot as plt\n",
    "sp.init_printing(use_unicode=True, use_latex='mathjax')\n",
    "%matplotlib inline"
   ]
  },
  {
   "cell_type": "code",
   "execution_count": 2,
   "metadata": {},
   "outputs": [],
   "source": [
    "VeloMPH = [] #Translational velocity of the baseball in MPH from Rapsodo\n",
    "Velo = [] #Velocity in m/s\n",
    "SpinM = [] #True spin of baseball in RPM\n",
    "SpinS = [] #True spin of baseball in RPS\n",
    "VertIN = [] #Vertical movement of each pitch from Rapsodo in inches\n",
    "Vert = [] #Vertical movement in meters\n",
    "HorIN = [] #Horizontal movement of each pitch in inches\n",
    "Hor = [] #Horizontal movement in meters\n",
    "Move = [] #Total movement in inches\n",
    "S = [] #Spin factor for each pitch\n",
    "SV = [] #Spin factor times velocity for each pitch\n",
    "R = 0.038 #Radius of baseball in meters\n",
    "A = R**2*np.pi #Cross sectional area of baseball in meters\n",
    "P = 1.23 #kg/m^3 density of air at STP\n",
    "XFT = 60.5 #Distance the ball travels in feet\n",
    "Gam = 0.25 #N*s^2/m^4 for air at STP\n",
    "D = 2*R #Diameter of baseball in meters\n",
    "m = 0.145 #Mass of ball in kg\n",
    "delT = 0.001 #Change in time\n",
    "g = 9.81 #Gravitational constant"
   ]
  },
  {
   "cell_type": "markdown",
   "metadata": {},
   "source": [
    "Import data"
   ]
  },
  {
   "cell_type": "code",
   "execution_count": 3,
   "metadata": {},
   "outputs": [],
   "source": [
    "import csv\n",
    "RapsodoData = []\n",
    "m0 = r\"C:\\Users\\Ryan\\Desktop\\Capstone\\Final Project\\Rapsodo Senior Project.csv\" #Location of the .csv Excel file\n",
    "with open(m0, newline='') as infile:\n",
    "    InputReader = csv.reader(infile)\n",
    "    InputHeader = next(InputReader)\n",
    "    for line in InputReader:\n",
    "        numline = [float(i) for i in line]\n",
    "        RapsodoData.append(numline)\n",
    "RapsodoData = np.array(RapsodoData)\n",
    "VeloMPH = RapsodoData[:,0] #First column in Excel is velocity\n",
    "SpinM = RapsodoData[:,1] #Second column is spin rate\n",
    "HorIN = RapsodoData[:,2] #Third column is horizontal movement\n",
    "VertIN = RapsodoData[:,3] #Fourth column is vertical movement"
   ]
  },
  {
   "cell_type": "markdown",
   "metadata": {},
   "source": [
    "Calculate total movement in inches"
   ]
  },
  {
   "cell_type": "code",
   "execution_count": 4,
   "metadata": {},
   "outputs": [],
   "source": [
    "for i in range(len(VeloMPH)):\n",
    "    Move.append((VertIN[i]**2 + HorIN[i]**2)**(1/2))"
   ]
  },
  {
   "cell_type": "markdown",
   "metadata": {},
   "source": [
    "Conversions"
   ]
  },
  {
   "cell_type": "code",
   "execution_count": 5,
   "metadata": {},
   "outputs": [],
   "source": [
    "for i in range(len(VeloMPH)):\n",
    "    Velo.append(VeloMPH[i] * 0.44704) #Miles per hour to meters per second\n",
    "    SpinS.append(SpinM[i] / 60) #Rotations per minute to rotations per second\n",
    "    Move[i] = Move[i] * 0.0254 #Inches to meters\n",
    "    Vert.append(VertIN[i] * 0.0254) #Inches to meters\n",
    "    Hor.append(HorIN[i] * 0.0254) #Inches to meters\n",
    "    \n",
    "X = XFT * 0.3048 #Feet to meters"
   ]
  },
  {
   "cell_type": "markdown",
   "metadata": {},
   "source": [
    "Use guess and check method for CL to match predicted model to the Rapsodo data"
   ]
  },
  {
   "cell_type": "code",
   "execution_count": 6,
   "metadata": {},
   "outputs": [
    {
     "ename": "KeyboardInterrupt",
     "evalue": "",
     "output_type": "error",
     "traceback": [
      "\u001b[1;31m---------------------------------------------------------------------------\u001b[0m",
      "\u001b[1;31mKeyboardInterrupt\u001b[0m                         Traceback (most recent call last)",
      "\u001b[1;32m<ipython-input-6-b064ad5ea1a1>\u001b[0m in \u001b[0;36m<module>\u001b[1;34m()\u001b[0m\n\u001b[0;32m     30\u001b[0m         \u001b[0mxvel\u001b[0m \u001b[1;33m=\u001b[0m \u001b[1;33m(\u001b[0m\u001b[0mxvel\u001b[0m \u001b[1;33m-\u001b[0m \u001b[1;33m(\u001b[0m\u001b[0mGam\u001b[0m\u001b[1;33m*\u001b[0m\u001b[0mD\u001b[0m\u001b[1;33m*\u001b[0m\u001b[0mD\u001b[0m\u001b[1;33m/\u001b[0m\u001b[0mm\u001b[0m\u001b[1;33m)\u001b[0m\u001b[1;33m*\u001b[0m\u001b[0mv\u001b[0m\u001b[1;33m*\u001b[0m\u001b[0mxvel\u001b[0m\u001b[1;33m*\u001b[0m\u001b[0mdelT\u001b[0m\u001b[1;33m)\u001b[0m\u001b[1;33m\u001b[0m\u001b[0m\n\u001b[0;32m     31\u001b[0m         \u001b[0myvel\u001b[0m \u001b[1;33m=\u001b[0m \u001b[1;33m(\u001b[0m\u001b[0myvel\u001b[0m \u001b[1;33m-\u001b[0m \u001b[1;33m(\u001b[0m\u001b[0mGam\u001b[0m\u001b[1;33m*\u001b[0m\u001b[0mD\u001b[0m\u001b[1;33m*\u001b[0m\u001b[0mD\u001b[0m\u001b[1;33m/\u001b[0m\u001b[0mm\u001b[0m\u001b[1;33m)\u001b[0m\u001b[1;33m*\u001b[0m\u001b[0mv\u001b[0m\u001b[1;33m*\u001b[0m\u001b[0myvel\u001b[0m\u001b[1;33m*\u001b[0m\u001b[0mdelT\u001b[0m \u001b[1;33m-\u001b[0m \u001b[1;36m0.5\u001b[0m\u001b[1;33m*\u001b[0m\u001b[0mP\u001b[0m\u001b[1;33m*\u001b[0m\u001b[0mA\u001b[0m\u001b[1;33m*\u001b[0m\u001b[0mv\u001b[0m\u001b[1;33m*\u001b[0m\u001b[0mv\u001b[0m\u001b[1;33m*\u001b[0m\u001b[0mCLAve\u001b[0m\u001b[1;33m*\u001b[0m\u001b[0mnp\u001b[0m\u001b[1;33m.\u001b[0m\u001b[0msin\u001b[0m\u001b[1;33m(\u001b[0m\u001b[0mnp\u001b[0m\u001b[1;33m.\u001b[0m\u001b[0marctan\u001b[0m\u001b[1;33m(\u001b[0m\u001b[0mHor\u001b[0m\u001b[1;33m[\u001b[0m\u001b[0mi\u001b[0m\u001b[1;33m]\u001b[0m\u001b[1;33m/\u001b[0m\u001b[0mVert\u001b[0m\u001b[1;33m[\u001b[0m\u001b[0mi\u001b[0m\u001b[1;33m]\u001b[0m\u001b[1;33m)\u001b[0m\u001b[1;33m*\u001b[0m\u001b[0mdelT\u001b[0m\u001b[1;33m/\u001b[0m\u001b[0mm\u001b[0m\u001b[1;33m)\u001b[0m\u001b[1;33m)\u001b[0m\u001b[1;33m\u001b[0m\u001b[0m\n\u001b[1;32m---> 32\u001b[1;33m         \u001b[0mzvel\u001b[0m \u001b[1;33m=\u001b[0m \u001b[1;33m(\u001b[0m\u001b[0mzvel\u001b[0m \u001b[1;33m-\u001b[0m \u001b[0mg\u001b[0m\u001b[1;33m*\u001b[0m\u001b[0mdelT\u001b[0m \u001b[1;33m-\u001b[0m \u001b[1;33m(\u001b[0m\u001b[0mGam\u001b[0m\u001b[1;33m*\u001b[0m\u001b[0mD\u001b[0m\u001b[1;33m*\u001b[0m\u001b[0mD\u001b[0m\u001b[1;33m/\u001b[0m\u001b[0mm\u001b[0m\u001b[1;33m)\u001b[0m\u001b[1;33m*\u001b[0m\u001b[0mv\u001b[0m\u001b[1;33m*\u001b[0m\u001b[0mzvel\u001b[0m\u001b[1;33m*\u001b[0m\u001b[0mdelT\u001b[0m \u001b[1;33m+\u001b[0m \u001b[1;36m0.5\u001b[0m\u001b[1;33m*\u001b[0m\u001b[0mP\u001b[0m\u001b[1;33m*\u001b[0m\u001b[0mA\u001b[0m\u001b[1;33m*\u001b[0m\u001b[0mv\u001b[0m\u001b[1;33m*\u001b[0m\u001b[0mv\u001b[0m\u001b[1;33m**\u001b[0m\u001b[0mCLAve\u001b[0m\u001b[1;33m*\u001b[0m\u001b[0mnp\u001b[0m\u001b[1;33m.\u001b[0m\u001b[0mcos\u001b[0m\u001b[1;33m(\u001b[0m\u001b[0mnp\u001b[0m\u001b[1;33m.\u001b[0m\u001b[0marctan\u001b[0m\u001b[1;33m(\u001b[0m\u001b[0mHor\u001b[0m\u001b[1;33m[\u001b[0m\u001b[0mi\u001b[0m\u001b[1;33m]\u001b[0m\u001b[1;33m/\u001b[0m\u001b[0mVert\u001b[0m\u001b[1;33m[\u001b[0m\u001b[0mi\u001b[0m\u001b[1;33m]\u001b[0m\u001b[1;33m)\u001b[0m\u001b[1;33m*\u001b[0m\u001b[0mdelT\u001b[0m\u001b[1;33m/\u001b[0m\u001b[0mm\u001b[0m\u001b[1;33m)\u001b[0m\u001b[1;33m)\u001b[0m\u001b[1;33m\u001b[0m\u001b[0m\n\u001b[0m\u001b[0;32m     33\u001b[0m         \u001b[1;31m#Movement just from the Magnus Force\u001b[0m\u001b[1;33m\u001b[0m\u001b[1;33m\u001b[0m\u001b[0m\n\u001b[0;32m     34\u001b[0m         \u001b[0myposmag\u001b[0m \u001b[1;33m=\u001b[0m \u001b[1;33m(\u001b[0m\u001b[0myposmag\u001b[0m \u001b[1;33m+\u001b[0m \u001b[0myvelmag\u001b[0m\u001b[1;33m*\u001b[0m\u001b[0mdelT\u001b[0m\u001b[1;33m)\u001b[0m\u001b[1;33m\u001b[0m\u001b[0m\n",
      "\u001b[1;31mKeyboardInterrupt\u001b[0m: "
     ]
    }
   ],
   "source": [
    "CL = [] #Lift Coefficients for each pitch\n",
    "loops = 0\n",
    "cases = 0\n",
    "for i in range(len(VeloMPH)):\n",
    "    cases = cases + 1\n",
    "    CLHigh = 0.00001\n",
    "    CLLow = 0.000001\n",
    "    CL.append(0)\n",
    "    #Movement variables\n",
    "    xpos=0 #Distance the ball has traveled from the pitching machine to the plate\n",
    "    ypos=0\n",
    "    yposmag=0 #Horizontal movement only due to Magnus force\n",
    "    zpos=5 #Pitching machine starts about 5 feet above the ground. This does not matter, only need Mag variables\n",
    "    zposmag=0 #Vertical movement only due to Magnus force\n",
    "    xvel=Velo[i]\n",
    "    yvel=0\n",
    "    yvelmag = 0 #Horizontal veloctiy only due to Magnus force\n",
    "    zvel=0\n",
    "    zvelmag = 0 #Vertical velocity only due to Magnus force\n",
    "    uncert = 0.0000001\n",
    "    while (xpos <= X):\n",
    "        CLAve = (CLHigh + CLLow)/2\n",
    "        CL[i] = CLAve\n",
    "        loops = loops + 1\n",
    "        v = (xvel**2 + yvel**2 + zvel**2)**0.5\n",
    "        #Actual positions\n",
    "        xpos = (xpos + xvel*delT)\n",
    "        ypos = (ypos + yvel*delT)\n",
    "        zpos = (zpos + zvel*delT)\n",
    "        xvel = (xvel - (Gam*D*D/m)*v*xvel*delT)\n",
    "        yvel = (yvel - (Gam*D*D/m)*v*yvel*delT - 0.5*P*A*v*v*CLAve*np.sin(np.arctan(Hor[i]/Vert[i])*delT/m))\n",
    "        zvel = (zvel - g*delT - (Gam*D*D/m)*v*zvel*delT + 0.5*P*A*v*v**CLAve*np.cos(np.arctan(Hor[i]/Vert[i])*delT/m))\n",
    "        #Movement just from the Magnus Force\n",
    "        yposmag = (yposmag + yvelmag*delT)\n",
    "        zposmag = (zposmag + zvelmag*delT)\n",
    "        yvelmag = (yvelmag - 0.5*P*A*v*v*CLAve*np.sin(np.arctan(Hor[i]/Vert[i])*delT/m))\n",
    "        zvelmag = (zvelmag + 0.5*P*A*v*v*CLAve*np.cos(np.arctan(Hor[i]/Vert[i])*delT/m))\n",
    "        \n",
    "        #Reset all arrays if the predicted Magnus only movement does not match Rapsodo data and change lift coefficient\n",
    "        if ((xpos > X) and (yposmag < Hor[i]) and (zposmag < Vert[i]) and abs(CLHigh - CLLow)>uncert):\n",
    "            CLLow = CLAve\n",
    "            xpos=0 #Distance the ball has traveled from the pitching machine to the plate\n",
    "            ypos=0\n",
    "            yposmag=0 #Horizontal movement only due to Magnus force\n",
    "            zpos=5 #Pitching machine starts about 5 feet above the ground. This does not matter, only need Mag variables\n",
    "            zposmag=0 #Vertical movement only due to Magnus force\n",
    "            xvel=Velo[i]\n",
    "            yvel=0\n",
    "            yvelmag = 0 #Horizontal veloctiy only due to Magnus force\n",
    "            zvel=0\n",
    "            zvelmag = 0 #Vertical velocity only due to Magnus force\n",
    "        else: # ((xpos > X) and (yposmag > Hor[i]) and (zposmag > Vert[i]) and abs(CLHigh - CLLow)>uncert):\n",
    "            CLHigh = CLAve\n",
    "            xpos=0 #Distance the ball has traveled from the pitching machine to the plate\n",
    "            ypos=0\n",
    "            yposmag=0 #Horizontal movement only due to Magnus force\n",
    "            zpos=5 #Pitching machine starts about 5 feet above the ground. This does not matter, only need Mag variables\n",
    "            zposmag=0 #Vertical movement only due to Magnus force\n",
    "            xvel=Velo[i]\n",
    "            yvel=0\n",
    "            yvelmag = 0 #Horizontal veloctiy only due to Magnus force\n",
    "            zvel=0\n",
    "            zvelmag = 0 #Vertical velocity only due to Magnus force"
   ]
  },
  {
   "cell_type": "markdown",
   "metadata": {},
   "source": [
    "Test to see how many times through the while loop total and how many pitches were run"
   ]
  },
  {
   "cell_type": "code",
   "execution_count": 7,
   "metadata": {},
   "outputs": [
    {
     "data": {
      "text/latex": [
       "$$9573424$$"
      ],
      "text/plain": [
       "9573424"
      ]
     },
     "execution_count": 7,
     "metadata": {},
     "output_type": "execute_result"
    }
   ],
   "source": [
    "loops"
   ]
  },
  {
   "cell_type": "code",
   "execution_count": 8,
   "metadata": {},
   "outputs": [
    {
     "data": {
      "text/latex": [
       "$$1$$"
      ],
      "text/plain": [
       "1"
      ]
     },
     "execution_count": 8,
     "metadata": {},
     "output_type": "execute_result"
    }
   ],
   "source": [
    "cases"
   ]
  },
  {
   "cell_type": "code",
   "execution_count": 9,
   "metadata": {},
   "outputs": [
    {
     "data": {
      "text/latex": [
       "$$1.0000000000000002e-06$$"
      ],
      "text/plain": [
       "1.0000000000000002e-06"
      ]
     },
     "execution_count": 9,
     "metadata": {},
     "output_type": "execute_result"
    }
   ],
   "source": [
    "CLAve"
   ]
  },
  {
   "cell_type": "code",
   "execution_count": 10,
   "metadata": {},
   "outputs": [
    {
     "data": {
      "text/latex": [
       "$$1e-06$$"
      ],
      "text/plain": [
       "1e-06"
      ]
     },
     "execution_count": 10,
     "metadata": {},
     "output_type": "execute_result"
    }
   ],
   "source": [
    "CLLow"
   ]
  },
  {
   "cell_type": "code",
   "execution_count": 11,
   "metadata": {},
   "outputs": [
    {
     "data": {
      "text/latex": [
       "$$1.0000000000000002e-06$$"
      ],
      "text/plain": [
       "1.0000000000000002e-06"
      ]
     },
     "execution_count": 11,
     "metadata": {},
     "output_type": "execute_result"
    }
   ],
   "source": [
    "CLHigh"
   ]
  },
  {
   "cell_type": "markdown",
   "metadata": {},
   "source": [
    "Calculate Spin factor and spin factor times velocity and print the size"
   ]
  },
  {
   "cell_type": "code",
   "execution_count": 12,
   "metadata": {},
   "outputs": [
    {
     "data": {
      "text/latex": [
       "$$300$$"
      ],
      "text/plain": [
       "300"
      ]
     },
     "execution_count": 12,
     "metadata": {},
     "output_type": "execute_result"
    }
   ],
   "source": [
    "for i in range(len(Velo)):\n",
    "    S.append(R*SpinS[i]/Velo[i]) #Rotations\n",
    "    SV.append(R*SpinS[i]) #Rotations times meters per second\n",
    "    \n",
    "len(S)"
   ]
  },
  {
   "cell_type": "markdown",
   "metadata": {},
   "source": [
    "Since the Lift Coefficient is so small (10^-5) Python can't graph them so we have to scale them so that they are graphable"
   ]
  },
  {
   "cell_type": "code",
   "execution_count": 13,
   "metadata": {},
   "outputs": [
    {
     "ename": "IndexError",
     "evalue": "list index out of range",
     "output_type": "error",
     "traceback": [
      "\u001b[1;31m---------------------------------------------------------------------------\u001b[0m",
      "\u001b[1;31mIndexError\u001b[0m                                Traceback (most recent call last)",
      "\u001b[1;32m<ipython-input-13-c54f064313bb>\u001b[0m in \u001b[0;36m<module>\u001b[1;34m()\u001b[0m\n\u001b[0;32m      1\u001b[0m \u001b[0mCLscaled\u001b[0m \u001b[1;33m=\u001b[0m \u001b[1;33m[\u001b[0m\u001b[1;33m]\u001b[0m\u001b[1;33m\u001b[0m\u001b[0m\n\u001b[0;32m      2\u001b[0m \u001b[1;32mfor\u001b[0m \u001b[0mi\u001b[0m \u001b[1;32min\u001b[0m \u001b[0mrange\u001b[0m\u001b[1;33m(\u001b[0m\u001b[0mlen\u001b[0m\u001b[1;33m(\u001b[0m\u001b[0mVelo\u001b[0m\u001b[1;33m)\u001b[0m\u001b[1;33m)\u001b[0m\u001b[1;33m:\u001b[0m\u001b[1;33m\u001b[0m\u001b[0m\n\u001b[1;32m----> 3\u001b[1;33m     \u001b[0mCLscaled\u001b[0m\u001b[1;33m.\u001b[0m\u001b[0mappend\u001b[0m\u001b[1;33m(\u001b[0m\u001b[1;36m10000\u001b[0m\u001b[1;33m*\u001b[0m\u001b[0mCL\u001b[0m\u001b[1;33m[\u001b[0m\u001b[0mi\u001b[0m\u001b[1;33m]\u001b[0m\u001b[1;33m)\u001b[0m\u001b[1;33m\u001b[0m\u001b[0m\n\u001b[0m\u001b[0;32m      4\u001b[0m \u001b[1;33m\u001b[0m\u001b[0m\n\u001b[0;32m      5\u001b[0m \u001b[0mlen\u001b[0m\u001b[1;33m(\u001b[0m\u001b[0mCLscaled\u001b[0m\u001b[1;33m)\u001b[0m\u001b[1;33m\u001b[0m\u001b[0m\n",
      "\u001b[1;31mIndexError\u001b[0m: list index out of range"
     ]
    }
   ],
   "source": [
    "CLscaled = []\n",
    "for i in range(len(Velo)):\n",
    "    CLscaled.append(10000*CL[i])\n",
    "    \n",
    "len(CLscaled)"
   ]
  },
  {
   "cell_type": "markdown",
   "metadata": {},
   "source": [
    "Graphs"
   ]
  },
  {
   "cell_type": "code",
   "execution_count": 14,
   "metadata": {},
   "outputs": [
    {
     "ename": "TypeError",
     "evalue": "expected x and y to have same length",
     "output_type": "error",
     "traceback": [
      "\u001b[1;31m---------------------------------------------------------------------------\u001b[0m",
      "\u001b[1;31mTypeError\u001b[0m                                 Traceback (most recent call last)",
      "\u001b[1;32m<ipython-input-14-8a94d351cda5>\u001b[0m in \u001b[0;36m<module>\u001b[1;34m()\u001b[0m\n\u001b[1;32m----> 1\u001b[1;33m \u001b[0mfit\u001b[0m \u001b[1;33m=\u001b[0m \u001b[0mnp\u001b[0m\u001b[1;33m.\u001b[0m\u001b[0mpolyfit\u001b[0m\u001b[1;33m(\u001b[0m\u001b[0mS\u001b[0m\u001b[1;33m,\u001b[0m \u001b[0mCLscaled\u001b[0m\u001b[1;33m,\u001b[0m \u001b[1;36m4\u001b[0m\u001b[1;33m)\u001b[0m\u001b[1;33m\u001b[0m\u001b[0m\n\u001b[0m\u001b[0;32m      2\u001b[0m \u001b[0mfitpoly\u001b[0m \u001b[1;33m=\u001b[0m \u001b[0mnp\u001b[0m\u001b[1;33m.\u001b[0m\u001b[0mpoly1d\u001b[0m\u001b[1;33m(\u001b[0m\u001b[0mfit\u001b[0m\u001b[1;33m)\u001b[0m\u001b[1;33m\u001b[0m\u001b[0m\n",
      "\u001b[1;32m~\\Anaconda3\\lib\\site-packages\\numpy\\lib\\polynomial.py\u001b[0m in \u001b[0;36mpolyfit\u001b[1;34m(x, y, deg, rcond, full, w, cov)\u001b[0m\n\u001b[0;32m    557\u001b[0m         \u001b[1;32mraise\u001b[0m \u001b[0mTypeError\u001b[0m\u001b[1;33m(\u001b[0m\u001b[1;34m\"expected 1D or 2D array for y\"\u001b[0m\u001b[1;33m)\u001b[0m\u001b[1;33m\u001b[0m\u001b[0m\n\u001b[0;32m    558\u001b[0m     \u001b[1;32mif\u001b[0m \u001b[0mx\u001b[0m\u001b[1;33m.\u001b[0m\u001b[0mshape\u001b[0m\u001b[1;33m[\u001b[0m\u001b[1;36m0\u001b[0m\u001b[1;33m]\u001b[0m \u001b[1;33m!=\u001b[0m \u001b[0my\u001b[0m\u001b[1;33m.\u001b[0m\u001b[0mshape\u001b[0m\u001b[1;33m[\u001b[0m\u001b[1;36m0\u001b[0m\u001b[1;33m]\u001b[0m\u001b[1;33m:\u001b[0m\u001b[1;33m\u001b[0m\u001b[0m\n\u001b[1;32m--> 559\u001b[1;33m         \u001b[1;32mraise\u001b[0m \u001b[0mTypeError\u001b[0m\u001b[1;33m(\u001b[0m\u001b[1;34m\"expected x and y to have same length\"\u001b[0m\u001b[1;33m)\u001b[0m\u001b[1;33m\u001b[0m\u001b[0m\n\u001b[0m\u001b[0;32m    560\u001b[0m \u001b[1;33m\u001b[0m\u001b[0m\n\u001b[0;32m    561\u001b[0m     \u001b[1;31m# set rcond\u001b[0m\u001b[1;33m\u001b[0m\u001b[1;33m\u001b[0m\u001b[0m\n",
      "\u001b[1;31mTypeError\u001b[0m: expected x and y to have same length"
     ]
    }
   ],
   "source": [
    "fit = np.polyfit(S, CLscaled, 4)\n",
    "fitpoly = np.poly1d(fit)"
   ]
  },
  {
   "cell_type": "code",
   "execution_count": null,
   "metadata": {},
   "outputs": [],
   "source": [
    "plt.plot(S, fitpoly(S))\n",
    "plt.scatter (S, CLscaled)\n",
    "plt.xlabel (\"Spin Factor (Rotations)\")\n",
    "plt.ylabel (\"Lift Coefficient x 10^5 (Meters squared per rotation)\")\n",
    "plt.title('Lift Coefficient vs Spin Factor')"
   ]
  },
  {
   "cell_type": "markdown",
   "metadata": {},
   "source": [
    "This does not seem to be a linear relationship. THere potentiall is one from spin factors 0 to about 0.02 but then it is not linear for the rest of the graph."
   ]
  },
  {
   "cell_type": "code",
   "execution_count": null,
   "metadata": {},
   "outputs": [],
   "source": [
    "fit = np.polyfit(SV, CLscaled, 4)\n",
    "fitpoly = np.poly1d(fit)"
   ]
  },
  {
   "cell_type": "code",
   "execution_count": null,
   "metadata": {},
   "outputs": [],
   "source": [
    "plt.plot(SV, fitpoly(SV))\n",
    "plt.scatter (SV, CLscaled)\n",
    "plt.xlabel (\"Spin Factor * Velocity\")\n",
    "plt.ylabel (\"Lift Coefficient x 10^5 (Rotation times meter per second)\")\n",
    "plt.title ('Lift Coefficient vs Spin Factor * Velocity')"
   ]
  },
  {
   "cell_type": "markdown",
   "metadata": {},
   "source": [
    "Out of the two graphs above, this seems to be the most linear. This graph still is not perfectly linear but it is getting a lot closer. There is a y-intercept around 1 or 2 and I think that could be due to the Reynolds number. I rememeber reading that Nathan said that the Reynolds number is also a part of the lift coefficient."
   ]
  },
  {
   "cell_type": "code",
   "execution_count": null,
   "metadata": {},
   "outputs": [],
   "source": [
    "fit = np.polyfit(Velo, CLscaled, 4)\n",
    "fitpoly = np.poly1d(fit)"
   ]
  },
  {
   "cell_type": "code",
   "execution_count": null,
   "metadata": {},
   "outputs": [],
   "source": [
    "plt.plot (Velo, fitpoly(Velo))\n",
    "plt.scatter (Velo, CLscaled)\n",
    "plt.xlabel (\"Velocity (m/s)\")\n",
    "plt.ylabel (\"Lift Coefficient x 10^5 (Meters squared per rotation)\")\n",
    "plt.title('Lift Coefficient vs Velocity')"
   ]
  },
  {
   "cell_type": "markdown",
   "metadata": {},
   "source": [
    "This graph is a little interesting because there seems to be a negative relationship between the lift coefficient and the velocity."
   ]
  },
  {
   "cell_type": "code",
   "execution_count": null,
   "metadata": {},
   "outputs": [],
   "source": [
    "fit = np.polyfit(SpinS, CLscaled, 4)\n",
    "fitpoly = np.poly1d(fit)"
   ]
  },
  {
   "cell_type": "code",
   "execution_count": null,
   "metadata": {},
   "outputs": [],
   "source": [
    "plt.plot (SpinS, fitpoly(SpinS))\n",
    "plt.scatter (SpinS, CLscaled)\n",
    "plt.xlabel (\"Spin Rate (Rotations per second)\")\n",
    "plt.ylabel (\"Lift Coefficient x 10^5 (Meters squared per rotation)\")\n",
    "plt.title('Lift Coefficient vs Spin Rate')"
   ]
  },
  {
   "cell_type": "markdown",
   "metadata": {},
   "source": [
    "This graph is very similar to the Lift Coefficient vs Spin Factor Times Velocity graph because the spin factor times velocity is just the radius of the ball times the spin rate."
   ]
  },
  {
   "cell_type": "code",
   "execution_count": null,
   "metadata": {},
   "outputs": [],
   "source": []
  },
  {
   "cell_type": "code",
   "execution_count": null,
   "metadata": {},
   "outputs": [],
   "source": []
  },
  {
   "cell_type": "code",
   "execution_count": null,
   "metadata": {},
   "outputs": [],
   "source": []
  },
  {
   "cell_type": "code",
   "execution_count": null,
   "metadata": {},
   "outputs": [],
   "source": []
  },
  {
   "cell_type": "code",
   "execution_count": null,
   "metadata": {},
   "outputs": [],
   "source": []
  },
  {
   "cell_type": "code",
   "execution_count": null,
   "metadata": {},
   "outputs": [],
   "source": []
  },
  {
   "cell_type": "code",
   "execution_count": null,
   "metadata": {},
   "outputs": [],
   "source": []
  },
  {
   "cell_type": "code",
   "execution_count": null,
   "metadata": {},
   "outputs": [],
   "source": []
  },
  {
   "cell_type": "code",
   "execution_count": null,
   "metadata": {},
   "outputs": [],
   "source": []
  }
 ],
 "metadata": {
  "kernelspec": {
   "display_name": "Python 3",
   "language": "python",
   "name": "python3"
  },
  "language_info": {
   "codemirror_mode": {
    "name": "ipython",
    "version": 3
   },
   "file_extension": ".py",
   "mimetype": "text/x-python",
   "name": "python",
   "nbconvert_exporter": "python",
   "pygments_lexer": "ipython3",
   "version": "3.6.5"
  }
 },
 "nbformat": 4,
 "nbformat_minor": 2
}
