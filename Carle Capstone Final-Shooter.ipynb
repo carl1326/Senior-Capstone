{
 "cells": [
  {
   "cell_type": "code",
   "execution_count": 1,
   "metadata": {},
   "outputs": [],
   "source": [
    "from math import *\n",
    "import numpy as np\n",
    "import sympy as sp\n",
    "import matplotlib.pyplot as plt\n",
    "sp.init_printing(use_unicode=True, use_latex='mathjax')\n",
    "%matplotlib inline"
   ]
  },
  {
   "cell_type": "code",
   "execution_count": 2,
   "metadata": {},
   "outputs": [],
   "source": [
    "VeloMPH = [] #Translational velocity of the baseball in MPH from Rapsodo\n",
    "Velo = [] #Velocity in m/s\n",
    "SpinM = [] #True spin of baseball in RPM\n",
    "SpinS = [] #True spin of baseball in RPS\n",
    "VertIN = [] #Vertical movement of each pitch from Rapsodo in inches\n",
    "Vert = [] #Vertical movement in meters\n",
    "HorIN = [] #Horizontal movement of each pitch in inches\n",
    "Hor = [] #Horizontal movement in meters\n",
    "Move = [] #Total movement in inches\n",
    "S = [] #Spin factor for each pitch\n",
    "SV = [] #Spin factor times velocity for each pitch\n",
    "R = 0.038 #Radius of baseball in meters\n",
    "A = R**2*np.pi #Cross sectional area of baseball in meters\n",
    "P = 1.23 #kg/m^3 density of air at STP\n",
    "XFT = 60.5 #Distance the ball travels in feet\n",
    "Gam = 0.25 #N*s^2/m^4 for air at STP\n",
    "D = 2*R #Diameter of baseball in meters\n",
    "m = 0.145 #Mass of ball in kg\n",
    "delT = 0.001 #Change in time\n",
    "g = 9.81 #Gravitational constant"
   ]
  },
  {
   "cell_type": "markdown",
   "metadata": {},
   "source": [
    "Import data"
   ]
  },
  {
   "cell_type": "code",
   "execution_count": 3,
   "metadata": {},
   "outputs": [],
   "source": [
    "import csv\n",
    "RapsodoData = []\n",
    "m0 = r\"C:\\Users\\Ryan\\Desktop\\Capstone\\Final Project\\Rapsodo Senior Project.csv\" #Location of the .csv Excel file\n",
    "with open(m0, newline='') as infile:\n",
    "    InputReader = csv.reader(infile)\n",
    "    InputHeader = next(InputReader)\n",
    "    for line in InputReader:\n",
    "        numline = [float(i) for i in line]\n",
    "        RapsodoData.append(numline)\n",
    "RapsodoData = np.array(RapsodoData)\n",
    "VeloMPH = RapsodoData[:,0] #First column in Excel is velocity\n",
    "SpinM = RapsodoData[:,1] #Second column is spin rate\n",
    "HorIN = RapsodoData[:,2] #Third column is horizontal movement\n",
    "VertIN = RapsodoData[:,3] #Fourth column is vertical movement"
   ]
  },
  {
   "cell_type": "markdown",
   "metadata": {},
   "source": [
    "Calculate total movement in inches"
   ]
  },
  {
   "cell_type": "code",
   "execution_count": 4,
   "metadata": {},
   "outputs": [],
   "source": [
    "for i in range(len(VeloMPH)):\n",
    "    Move.append((VertIN[i]**2 + HorIN[i]**2)**(1/2)) "
   ]
  },
  {
   "cell_type": "markdown",
   "metadata": {},
   "source": [
    "Conversions"
   ]
  },
  {
   "cell_type": "code",
   "execution_count": 5,
   "metadata": {},
   "outputs": [],
   "source": [
    "for i in range(len(VeloMPH)):\n",
    "    Velo.append(VeloMPH[i] / 2.237) #Miles per hour to meters per second\n",
    "    SpinS.append(SpinM[i] / 60) #Rotations per minute to rotations per second\n",
    "    Move[i] = Move[i] * 0.0254 #Inches to meters\n",
    "    Vert.append(VertIN[i] * 0.0254)#Inches to meters in absolute value\n",
    "    Vert[i] = abs(Vert[i])\n",
    "    Hor.append(HorIN[i] * 0.0254) #Inches to meters in absolute value\n",
    "    Hor[i] = abs(Hor[i])\n",
    "    \n",
    "X = XFT * 0.3048 #Feet to meters"
   ]
  },
  {
   "cell_type": "markdown",
   "metadata": {},
   "source": [
    "Use Shooting method for CL to match predicted model to the Rapsodo data"
   ]
  },
  {
   "cell_type": "code",
   "execution_count": null,
   "metadata": {},
   "outputs": [],
   "source": []
  },
  {
   "cell_type": "code",
   "execution_count": 6,
   "metadata": {},
   "outputs": [
    {
     "name": "stdout",
     "output_type": "stream",
     "text": [
      "50.0000005\n",
      "1\n",
      "25.000000749999998\n",
      "2\n",
      "12.500000875\n",
      "3\n",
      "6.250000937499999\n",
      "4\n",
      "3.1250009687499998\n",
      "5\n",
      "1.562500984375\n",
      "6\n",
      "0.7812509921874999\n",
      "7\n",
      "0.39062599609375\n",
      "8\n",
      "0.19531349804687498\n",
      "9\n",
      "0.09765724902343749\n",
      "10\n",
      "0.14648537353515623\n",
      "11\n",
      "0.12207131127929685\n",
      "12\n",
      "0.13427834240722653\n",
      "13\n",
      "0.14038185797119138\n",
      "14\n",
      "0.13733010018920894\n",
      "15\n",
      "0.13580422129821773\n",
      "16\n",
      "0.13656716074371333\n",
      "17\n",
      "0.13694863046646114\n",
      "18\n",
      "0.13713936532783505\n",
      "19\n",
      "0.1370439978971481\n",
      "20\n",
      "0.13709168161249158\n",
      "21\n",
      "0.13706783975481984\n",
      "22\n",
      "0.1370797606836557\n",
      "23\n",
      "0.13707380021923776\n",
      "24\n",
      "0.13707678045144672\n",
      "25\n",
      "0.13707827056755123\n",
      "26\n",
      "0.13707901562560348\n",
      "27\n",
      "0.1370793881546296\n",
      "28\n",
      "0.13707957441914265\n",
      "29\n",
      "0.13707966755139916\n",
      "30\n",
      "0.1370796209852709\n",
      "31\n",
      "0.13707964426833502\n",
      "32\n",
      "0.13707963262680295\n",
      "33\n",
      "0.1370796268060369\n",
      "34\n",
      "0.13707962389565392\n",
      "35\n",
      "0.13707962535084542\n",
      "36\n",
      "0.13707962462324969\n",
      "37\n",
      "0.13707962498704757\n",
      "38\n",
      "0.13707962480514863\n",
      "39\n",
      "0.13707962471419916\n",
      "40\n",
      "0.1370796247596739\n",
      "41\n",
      "0.13707962473693652\n",
      "42\n",
      "0.1370796247483052\n",
      "43\n"
     ]
    }
   ],
   "source": [
    "CL = [] #Lift Coefficients for each pitch\n",
    "loops = 0\n",
    "cases = 0\n",
    "simpitches = 0\n",
    "z = 1\n",
    "for i in range(len(VeloMPH)):\n",
    "    simpitches = simpitches + 1\n",
    "    cases = cases + 1\n",
    "    CLHigh = 100\n",
    "    CLLow = 0.000001\n",
    "    CL.append(0)\n",
    "    #Movement variables\n",
    "    xpos=0 #Distance the ball has traveled from the pitching machine to the plate\n",
    "    ypos=0\n",
    "    yposmag=0 #Horizontal movement only due to Magnus force\n",
    "    zpos=5 #Pitching machine starts about 5 feet above the ground. This does not matter, only need Mag variables\n",
    "    zposmag=0 #Vertical movement only due to Magnus force\n",
    "    xvel=Velo[i]\n",
    "    yvel=0\n",
    "    yvelmag = 0 #Horizontal veloctiy only due to Magnus force\n",
    "    zvel=0\n",
    "    zvelmag = 0 #Vertical velocity only due to Magnus force\n",
    "    uncert = 0.00000000001\n",
    "    while (xpos <= X):\n",
    "        loops = loops + 1\n",
    "        CLAve = (CLHigh + CLLow)/2\n",
    "        CL[i] = CLAve\n",
    "        v = (xvel**2 + yvel**2 + zvel**2)**0.5\n",
    "        #Actual positions\n",
    "        xpos = (xpos + xvel*delT)\n",
    "        ypos = (ypos + yvel*delT)\n",
    "        zpos = (zpos + zvel*delT)\n",
    "        xvel = (xvel - (Gam*D*D/m)*v*xvel*delT)\n",
    "        yvel = (yvel - (Gam*D*D/m)*v*yvel*delT + 0.5*P*A*v*v*CLAve*np.sin(np.arctan(Hor[i]/Vert[i]))*delT/m)\n",
    "        zvel = (zvel - g*delT - (Gam*D*D/m)*v*zvel*delT + 0.5*P*A*v*v*CLAve*np.cos(np.arctan(Hor[i]/Vert[i]))*delT/m)\n",
    "        #Movement just from the Magnus Force\n",
    "        yposmag = (yposmag + yvelmag*delT)\n",
    "        zposmag = (zposmag + zvelmag*delT)\n",
    "        yvelmag = (yvelmag + 0.5*P*A*v*v*CLAve*np.sin(np.arctan(Hor[i]/Vert[i]))*delT/m)\n",
    "        zvelmag = (zvelmag + 0.5*P*A*v*v*CLAve*np.cos(np.arctan(Hor[i]/Vert[i]))*delT/m)\n",
    "        \n",
    "        if (75 == i and (xpos > X)):\n",
    "            print (CLAve)\n",
    "            print (z)\n",
    "            z = z + 1\n",
    "        \n",
    "        #Reset all arrays if the predicted Magnus only movement does not match Rapsodo data and change lift coefficient\n",
    "        if ((xpos > X) and (zposmag < Vert[i]) and abs(zposmag - Vert[i])>uncert): \n",
    "            CLLow = CLAve\n",
    "            xpos=0 #Distance the ball has traveled from the pitching machine to the plate\n",
    "            ypos=0\n",
    "            yposmag=0 #Horizontal movement only due to Magnus force\n",
    "            zpos=5 #Pitching machine starts about 5 feet above the ground. This does not matter, only need Mag variables\n",
    "            zposmag=0 #Vertical movement only due to Magnus force\n",
    "            xvel=Velo[i]\n",
    "            yvel=0\n",
    "            yvelmag = 0 #Horizontal veloctiy only due to Magnus force\n",
    "            zvel=0\n",
    "            zvelmag = 0 #Vertical velocity only due to Magnus force\n",
    "            simpitches = simpitches + 1\n",
    "        elif ((xpos > X) and (zposmag > Vert[i]) and abs(zposmag - Vert[i])>uncert): \n",
    "            CLHigh = CLAve\n",
    "            xpos=0 #Distance the ball has traveled from the pitching machine to the plate\n",
    "            ypos=0\n",
    "            yposmag=0 #Horizontal movement only due to Magnus force\n",
    "            zpos=5 #Pitching machine starts about 5 feet above the ground. This does not matter, only need Mag variables\n",
    "            zposmag=0 #Vertical movement only due to Magnus force\n",
    "            xvel=Velo[i]\n",
    "            yvel=0\n",
    "            yvelmag = 0 #Horizontal veloctiy only due to Magnus force\n",
    "            zvel=0\n",
    "            zvelmag = 0 #Vertical velocity only due to Magnus force\n",
    "            simpitches = simpitches + 1\n",
    "            "
   ]
  },
  {
   "cell_type": "markdown",
   "metadata": {},
   "source": [
    "Test to see how many times through the while loop total and how many pitches were run"
   ]
  },
  {
   "cell_type": "code",
   "execution_count": 7,
   "metadata": {},
   "outputs": [
    {
     "data": {
      "text/latex": [
       "$$6697856$$"
      ],
      "text/plain": [
       "6697856"
      ]
     },
     "execution_count": 7,
     "metadata": {},
     "output_type": "execute_result"
    }
   ],
   "source": [
    "loops"
   ]
  },
  {
   "cell_type": "code",
   "execution_count": 8,
   "metadata": {},
   "outputs": [
    {
     "data": {
      "text/latex": [
       "$$300$$"
      ],
      "text/plain": [
       "300"
      ]
     },
     "execution_count": 8,
     "metadata": {},
     "output_type": "execute_result"
    }
   ],
   "source": [
    "cases"
   ]
  },
  {
   "cell_type": "code",
   "execution_count": 9,
   "metadata": {},
   "outputs": [
    {
     "data": {
      "text/latex": [
       "$$12882$$"
      ],
      "text/plain": [
       "12882"
      ]
     },
     "execution_count": 9,
     "metadata": {},
     "output_type": "execute_result"
    }
   ],
   "source": [
    "simpitches"
   ]
  },
  {
   "cell_type": "code",
   "execution_count": 10,
   "metadata": {},
   "outputs": [
    {
     "data": {
      "text/latex": [
       "$$0.1370796247483052$$"
      ],
      "text/plain": [
       "0.1370796247483052"
      ]
     },
     "execution_count": 10,
     "metadata": {},
     "output_type": "execute_result"
    }
   ],
   "source": [
    "CL[75]"
   ]
  },
  {
   "cell_type": "markdown",
   "metadata": {},
   "source": [
    "Calculate Spin factor and spin factor times velocity and print the size"
   ]
  },
  {
   "cell_type": "code",
   "execution_count": 11,
   "metadata": {},
   "outputs": [
    {
     "data": {
      "text/latex": [
       "$$300$$"
      ],
      "text/plain": [
       "300"
      ]
     },
     "execution_count": 11,
     "metadata": {},
     "output_type": "execute_result"
    }
   ],
   "source": [
    "for i in range(len(Velo)):\n",
    "    S.append(R*SpinS[i]/Velo[i]) #Rotations\n",
    "    SV.append(R*SpinS[i]) #Rotations times meters per second\n",
    "    \n",
    "len(S)"
   ]
  },
  {
   "cell_type": "markdown",
   "metadata": {},
   "source": [
    "Sort The Arrays"
   ]
  },
  {
   "cell_type": "code",
   "execution_count": 12,
   "metadata": {},
   "outputs": [],
   "source": [
    "i = 1\n",
    "STemp = 0\n",
    "CLTemp = 0\n",
    "while i < 300:\n",
    "    if (S[i] < S[i - 1]):\n",
    "        STemp = S[i]\n",
    "        CLTemp = CL[i]\n",
    "        S[i] = S[i - 1]\n",
    "        CL[i] = CL[i - 1]\n",
    "        S[i - 1] = STemp\n",
    "        CL[i - 1] = CLTemp\n",
    "        i = 1\n",
    "    else:\n",
    "        i = i + 1"
   ]
  },
  {
   "cell_type": "code",
   "execution_count": 13,
   "metadata": {},
   "outputs": [
    {
     "data": {
      "text/plain": [
       "array([-9.27069501e+03,  1.99561365e+03, -1.72629590e+02,  8.25644440e+00,\n",
       "        6.07227741e-03])"
      ]
     },
     "execution_count": 13,
     "metadata": {},
     "output_type": "execute_result"
    }
   ],
   "source": [
    "fit = np.polyfit(S, CL, 4)\n",
    "fitpoly = np.poly1d(fit)\n",
    "fit"
   ]
  },
  {
   "cell_type": "code",
   "execution_count": 14,
   "metadata": {},
   "outputs": [
    {
     "name": "stdout",
     "output_type": "stream",
     "text": [
      "LC =  -9270.69501288483 S^4 +  1995.613650739138 S^3 +  -172.6295900167783 S^2 +  8.25644439903066 S +  0.006072277408520552\n"
     ]
    },
    {
     "data": {
      "image/png": "[encoded data removed]",
      "text/plain": [
       "<Figure size 432x288 with 1 Axes>"
      ]
     },
     "metadata": {},
     "output_type": "display_data"
    }
   ],
   "source": [
    "#plt.plot(S, fitpoly(S))\n",
    "plt.scatter (S, CL)\n",
    "plt.xlabel (\"Spin Factor (rot)\")\n",
    "plt.ylabel (\"Lift Coefficient\")\n",
    "plt.title('Lift Coefficient vs Spin Factor')\n",
    "print(\"LC = \",fit[0],\"S^4 + \",fit[1], \"S^3 + \",fit[2],\"S^2 + \",fit[3],\"S + \", fit[4],)"
   ]
  },
  {
   "cell_type": "code",
   "execution_count": 15,
   "metadata": {},
   "outputs": [],
   "source": [
    "i = 1\n",
    "SVTemp = 0\n",
    "CLTemp = 0\n",
    "while i < 300:\n",
    "    if (SV[i] < SV[i - 1]):\n",
    "        SVTemp = SV[i]\n",
    "        CLTemp = CL[i]\n",
    "        SV[i] = SV[i - 1]\n",
    "        CL[i] = CL[i - 1]\n",
    "        SV[i - 1] = SVTemp\n",
    "        CL[i - 1] = CLTemp\n",
    "        i = 1\n",
    "    else:\n",
    "        i = i + 1"
   ]
  },
  {
   "cell_type": "code",
   "execution_count": 16,
   "metadata": {},
   "outputs": [
    {
     "data": {
      "text/plain": [
       "array([ 0.04404194, -0.23867696,  0.43294181, -0.24812426,  0.14619699])"
      ]
     },
     "execution_count": 16,
     "metadata": {},
     "output_type": "execute_result"
    }
   ],
   "source": [
    "fit = np.polyfit(SV, CL, 4)\n",
    "fitpoly = np.poly1d(fit)\n",
    "fit"
   ]
  },
  {
   "cell_type": "code",
   "execution_count": 17,
   "metadata": {},
   "outputs": [
    {
     "name": "stdout",
     "output_type": "stream",
     "text": [
      "LC =  0.04404194474229979 SV^4 +  -0.23867695883831924 SV^3 +  0.4329418100186847 SV^2 +  -0.2481242564504922 SV +  0.14619698662789002\n"
     ]
    },
    {
     "data": {
      "image/png": "[encoded data removed]",
      "text/plain": [
       "<Figure size 432x288 with 1 Axes>"
      ]
     },
     "metadata": {},
     "output_type": "display_data"
    }
   ],
   "source": [
    "#plt.plot(SV, fitpoly(SV))\n",
    "plt.scatter (SV, CL)\n",
    "plt.xlabel (\"Spin Factor * Velocity (rot*m/s)\")\n",
    "plt.ylabel (\"Lift Coefficient\")\n",
    "plt.title ('Lift Coefficient vs Spin Factor * Velocity')\n",
    "print(\"LC = \",fit[0],\"SV^4 + \",fit[1], \"SV^3 + \",fit[2],\"SV^2 + \",fit[3],\"SV + \", fit[4],)"
   ]
  },
  {
   "cell_type": "markdown",
   "metadata": {},
   "source": [
    "Out of the two graphs above, this seems to be the most linear. This graph still is not perfectly linear but it is getting a lot closer. There is a y-intercept around 1 or 2 and I think that could be due to the Reynolds number. I rememeber reading that Nathan said that the Reynolds number is also a part of the lift coefficient."
   ]
  },
  {
   "cell_type": "code",
   "execution_count": 18,
   "metadata": {},
   "outputs": [],
   "source": [
    "i = 1\n",
    "VeloTemp = 0\n",
    "CLTemp = 0\n",
    "while i < 300:\n",
    "    if (Velo[i] < Velo[i - 1]):\n",
    "        VeloTemp = Velo[i]\n",
    "        CLTemp = CL[i]\n",
    "        Velo[i] = Velo[i - 1]\n",
    "        CL[i] = CL[i - 1]\n",
    "        Velo[i - 1] = VeloTemp\n",
    "        CL[i - 1] = CLTemp\n",
    "        i = 1\n",
    "    else:\n",
    "        i = i + 1"
   ]
  },
  {
   "cell_type": "code",
   "execution_count": 19,
   "metadata": {},
   "outputs": [
    {
     "data": {
      "text/plain": [
       "array([ 2.22774152e-06, -3.15581122e-04,  1.63004966e-02, -3.66845032e-01,\n",
       "        3.23032684e+00])"
      ]
     },
     "execution_count": 19,
     "metadata": {},
     "output_type": "execute_result"
    }
   ],
   "source": [
    "fit = np.polyfit(Velo, CL, 4)\n",
    "fitpoly = np.poly1d(fit)\n",
    "fit"
   ]
  },
  {
   "cell_type": "code",
   "execution_count": 20,
   "metadata": {},
   "outputs": [
    {
     "name": "stdout",
     "output_type": "stream",
     "text": [
      "LC =  2.2277415222859303e-06 v^4 +  -0.000315581121683164 v^3 +  0.016300496595064162 v^2 +  -0.3668450316866943 v +  3.230326843292868\n"
     ]
    },
    {
     "data": {
      "image/png": "[encoded data removed]",
      "text/plain": [
       "<Figure size 432x288 with 1 Axes>"
      ]
     },
     "metadata": {},
     "output_type": "display_data"
    }
   ],
   "source": [
    "plt.plot (Velo, fitpoly(Velo))\n",
    "plt.scatter (Velo, CL)\n",
    "plt.xlabel (\"Velocity (m/s)\")\n",
    "plt.ylabel (\"Lift Coefficient (Meters squared per rotation)\")\n",
    "plt.title('Lift Coefficient vs Velocity')\n",
    "print(\"LC = \",fit[0],\"v^4 + \",fit[1], \"v^3 + \",fit[2],\"v^2 + \",fit[3],\"v + \", fit[4],)"
   ]
  },
  {
   "cell_type": "markdown",
   "metadata": {},
   "source": [
    "This graph is a little interesting because there seems to be a negative relationship between the lift coefficient and the velocity."
   ]
  },
  {
   "cell_type": "code",
   "execution_count": 21,
   "metadata": {},
   "outputs": [],
   "source": [
    "i = 1\n",
    "SpinSTemp = 0\n",
    "CLTemp = 0\n",
    "while i < 300:\n",
    "    if (SpinS[i] < SpinS[i - 1]):\n",
    "        SpinSTemp = SpinS[i]\n",
    "        CLTemp = CL[i]\n",
    "        SpinS[i] = SpinS[i - 1]\n",
    "        CL[i] = CL[i - 1]\n",
    "        SpinS[i - 1] = SpinSTemp\n",
    "        CL[i - 1] = CLTemp\n",
    "        i = 1\n",
    "    else:\n",
    "        i = i + 1"
   ]
  },
  {
   "cell_type": "code",
   "execution_count": 22,
   "metadata": {},
   "outputs": [
    {
     "data": {
      "text/plain": [
       "array([ 2.15571385e-08, -2.71831135e-06,  1.14256697e-04, -2.63876274e-03,\n",
       "        1.94794953e-01])"
      ]
     },
     "execution_count": 22,
     "metadata": {},
     "output_type": "execute_result"
    }
   ],
   "source": [
    "fit = np.polyfit(SpinS, CL, 4)\n",
    "fitpoly = np.poly1d(fit)\n",
    "fit"
   ]
  },
  {
   "cell_type": "code",
   "execution_count": 23,
   "metadata": {},
   "outputs": [
    {
     "name": "stdout",
     "output_type": "stream",
     "text": [
      "LC =  2.1557138527870347e-08 w^4 +  -2.7183113461934362e-06 w^3 +  0.00011425669748307433 w^2 +  -0.00263876274261937 w +  0.19479495337071495\n"
     ]
    },
    {
     "data": {
      "image/png": "[encoded data removed]",
      "text/plain": [
       "<Figure size 432x288 with 1 Axes>"
      ]
     },
     "metadata": {},
     "output_type": "display_data"
    }
   ],
   "source": [
    "plt.plot (SpinS, fitpoly(SpinS))\n",
    "plt.scatter (SpinS, CL)\n",
    "plt.xlabel (\"Spin Rate (Rotations per second)\")\n",
    "plt.ylabel (\"Lift Coefficient (Meters squared per rotation)\")\n",
    "plt.title('Lift Coefficient vs Spin Rate')\n",
    "print(\"LC = \",fit[0],\"w^4 + \",fit[1], \"w^3 + \",fit[2],\"w^2 + \",fit[3],\"w + \", fit[4],)"
   ]
  },
  {
   "cell_type": "markdown",
   "metadata": {},
   "source": [
    "This graph is very similar to the Lift Coefficient vs Spin Factor Times Velocity graph because the spin factor times velocity is just the radius of the ball times the spin rate."
   ]
  },
  {
   "cell_type": "code",
   "execution_count": null,
   "metadata": {},
   "outputs": [],
   "source": []
  }
 ],
 "metadata": {
  "kernelspec": {
   "display_name": "Python 3",
   "language": "python",
   "name": "python3"
  },
  "language_info": {
   "codemirror_mode": {
    "name": "ipython",
    "version": 3
   },
   "file_extension": ".py",
   "mimetype": "text/x-python",
   "name": "python",
   "nbconvert_exporter": "python",
   "pygments_lexer": "ipython3",
   "version": "3.6.5"
  }
 },
 "nbformat": 4,
 "nbformat_minor": 2
}
