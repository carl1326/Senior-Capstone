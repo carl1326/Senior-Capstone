{
 "cells": [
  {
   "cell_type": "code",
   "execution_count": 73,
   "metadata": {},
   "outputs": [],
   "source": [
    "from math import *\n",
    "import numpy as np\n",
    "import sympy as sp\n",
    "import matplotlib.pyplot as plt\n",
    "sp.init_printing(use_unicode=True, use_latex='mathjax')\n",
    "%matplotlib inline"
   ]
  },
  {
   "cell_type": "code",
   "execution_count": 74,
   "metadata": {},
   "outputs": [],
   "source": [
    "xpos=[]\n",
    "ypos=[]\n",
    "xvel=[]\n",
    "yvel=[]"
   ]
  },
  {
   "cell_type": "code",
   "execution_count": 75,
   "metadata": {},
   "outputs": [],
   "source": [
    "vd = 35\n",
    "delta = 5\n",
    "m = 0.145\n",
    "delT = .1\n",
    "xpos.append(0)\n",
    "ypos.append(0)\n",
    "theta = pi*35/180\n",
    "v = 49\n",
    "yvel.append(v * sin(theta))\n",
    "xvel.append(v * cos(theta))\n",
    "g = 9.8\n",
    "count = 0"
   ]
  },
  {
   "cell_type": "code",
   "execution_count": 76,
   "metadata": {},
   "outputs": [],
   "source": [
    "B2 = (0.0039 + (0.0058/(1+exp((v-vd)/delta))))*m"
   ]
  },
  {
   "cell_type": "code",
   "execution_count": 77,
   "metadata": {},
   "outputs": [],
   "source": [
    "while (ypos[count] >= 0 & (xpos[count] >= xpos[count-1])):\n",
    "    v = (xvel[count]**2 + yvel[count]**2)**0.5\n",
    "    xpos.append(xpos[count] + xvel[count]*delT)\n",
    "    ypos.append(ypos[count] + yvel[count]*delT)\n",
    "    xvel.append(xvel[count] - (B2*v*xvel[count]/m)*delT)\n",
    "    yvel.append(yvel[count] - g*delT - (B2*v*yvel[count]/m)*delT)\n",
    "    count = count + 1"
   ]
  },
  {
   "cell_type": "code",
   "execution_count": 78,
   "metadata": {},
   "outputs": [
    {
     "data": {
      "text/latex": [
       "$$\\left ( 0, \\quad 40\\right )$$"
      ],
      "text/plain": [
       "(0, 40)"
      ]
     },
     "execution_count": 78,
     "metadata": {},
     "output_type": "execute_result"
    },
    {
     "data": {
      "image/png": "[encoded data removed]",
      "text/plain": [
       "<Figure size 432x288 with 1 Axes>"
      ]
     },
     "metadata": {},
     "output_type": "display_data"
    }
   ],
   "source": [
    "plt.plot (xpos, ypos)\n",
    "plt.xlabel (\"Position (m)\")\n",
    "plt.ylabel (\"Position (m)\")\n",
    "plt.xlim (0, 150)\n",
    "plt.ylim (0, 40)"
   ]
  },
  {
   "cell_type": "code",
   "execution_count": null,
   "metadata": {},
   "outputs": [],
   "source": []
  },
  {
   "cell_type": "code",
   "execution_count": null,
   "metadata": {},
   "outputs": [],
   "source": []
  }
 ],
 "metadata": {
  "kernelspec": {
   "display_name": "Python 3",
   "language": "python",
   "name": "python3"
  },
  "language_info": {
   "codemirror_mode": {
    "name": "ipython",
    "version": 3
   },
   "file_extension": ".py",
   "mimetype": "text/x-python",
   "name": "python",
   "nbconvert_exporter": "python",
   "pygments_lexer": "ipython3",
   "version": "3.6.5"
  }
 },
 "nbformat": 4,
 "nbformat_minor": 2
}
